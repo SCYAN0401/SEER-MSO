{
 "cells": [
  {
   "cell_type": "markdown",
   "metadata": {},
   "source": [
    "# Import\n",
    "\n"
   ]
  },
  {
   "cell_type": "code",
   "execution_count": null,
   "metadata": {},
   "outputs": [],
   "source": [
    "# general\n",
    "\n",
    "import matplotlib.pyplot as plt\n",
    "import pandas as pd\n",
    "import numpy as np\n",
    "import seaborn as sns\n",
    "import warnings\n",
    "import pickle\n",
    "\n",
    "\n",
    "# local\n",
    "\n",
    "import evaluation, preprocessor, univariate, tuning\n",
    "\n",
    "from evaluation import (    \n",
    "    make_random_list,\n",
    "    time_points,\n",
    "    \n",
    "    plot_c_index_ci,\n",
    "    plot_td_auc_no_ci,\n",
    "    plot_td_bs_no_ci,\n",
    "    \n",
    "    get_best_cutoff,\n",
    "    plot_km_together,\n",
    "    plot_km_original,\n",
    "    \n",
    "    plot_predictions,\n",
    "    plot_personalized_predictions,\n",
    "\n",
    "    plot_beeswarm_per_features,\n",
    "    get_ylabels\n",
    ")\n",
    "\n",
    "from preprocessor import (\n",
    "    ENCODER,\n",
    "    onehot_encoder,\n",
    "    ordinal_encoder,\n",
    "    preprocessor_test\n",
    ")\n",
    "\n",
    "from univariate import (\n",
    "    plot_cumulative_dynamic_auc_together,\n",
    "    plot_cumulative_dynamic_auc,\n",
    "    get_univariate_table\n",
    ")\n",
    "\n",
    "# sksurv metrics\n",
    "\n",
    "from sksurv.metrics import (\n",
    "    concordance_index_censored, \n",
    "    cumulative_dynamic_auc, \n",
    "    integrated_brier_score\n",
    ")\n",
    "from sksurv.metrics import (\n",
    "    as_concordance_index_ipcw_scorer, # Uno's C-index\n",
    "    as_cumulative_dynamic_auc_scorer, # Harrell's C-index\n",
    "    as_integrated_brier_score_scorer,\n",
    ")\n",
    "\n",
    "# sksurv MODELS\n",
    "\n",
    "from sksurv.linear_model import (\n",
    "    CoxPHSurvivalAnalysis, \n",
    "    CoxnetSurvivalAnalysis,\n",
    ")\n",
    "from sksurv.ensemble import (\n",
    "    RandomSurvivalForest, \n",
    "    ComponentwiseGradientBoostingSurvivalAnalysis, \n",
    "    GradientBoostingSurvivalAnalysis\n",
    ")\n",
    "from sksurv.tree import (\n",
    "    SurvivalTree\n",
    ")\n",
    "from sksurv.svm import (\n",
    "    FastSurvivalSVM, \n",
    "    FastKernelSurvivalSVM\n",
    ")\n",
    "from sksurv.kernels import clinical_kernel, ClinicalKernelTransform\n",
    "\n",
    "# sksurv OTHERS\n",
    "\n",
    "from sksurv.nonparametric import kaplan_meier_estimator\n",
    "from sksurv.util import Surv\n",
    "\n",
    "# SKLEARN\n",
    "\n",
    "from sklearn import set_config\n",
    "set_config(display=\"text\")  # displays text representation of estimators\n",
    "from sklearn.exceptions import FitFailedWarning\n",
    "\n",
    "from sklearn.experimental import enable_iterative_imputer\n",
    "from sklearn.impute import SimpleImputer, IterativeImputer\n",
    "from sklearn.linear_model import BayesianRidge\n",
    "\n",
    "from sklearn.preprocessing import PowerTransformer\n",
    "\n",
    "from sklearn.model_selection import GridSearchCV, KFold, ShuffleSplit\n",
    "\n",
    "from sklearn.inspection import permutation_importance\n",
    "\n",
    "from sklearn.pipeline import Pipeline\n",
    "from sklearn.preprocessing import FunctionTransformer\n",
    "\n",
    "# Explain\n",
    "\n",
    "import shap"
   ]
  },
  {
   "cell_type": "markdown",
   "metadata": {},
   "source": [
    "# Color changer"
   ]
  },
  {
   "cell_type": "code",
   "execution_count": null,
   "metadata": {},
   "outputs": [],
   "source": [
    "# tab20\n",
    "\n",
    "tab20_colors = plt.cm.tab20.colors\n",
    "tab20_cycle = plt.cycler(color=tab20_colors)\n",
    "plt.rcParams['axes.prop_cycle'] = tab20_cycle"
   ]
  },
  {
   "cell_type": "code",
   "execution_count": null,
   "metadata": {},
   "outputs": [],
   "source": [
    "# tab10\n",
    "\n",
    "tab10_colors = plt.cm.tab10.colors\n",
    "tab10_cycle = plt.cycler(color=tab10_colors)\n",
    "plt.rcParams['axes.prop_cycle'] = tab10_cycle"
   ]
  },
  {
   "cell_type": "markdown",
   "metadata": {},
   "source": [
    "# Prepare"
   ]
  },
  {
   "cell_type": "code",
   "execution_count": null,
   "metadata": {},
   "outputs": [],
   "source": [
    "# load\n",
    "\n",
    "data = pd.read_table('data/data.csv', sep=',', header=0)"
   ]
  },
  {
   "cell_type": "code",
   "execution_count": null,
   "metadata": {},
   "outputs": [],
   "source": [
    "# split\n",
    "\n",
    "data_train = data[data['id'] == 'SEER']\n",
    "data_test = data[data['id'] == 'External']"
   ]
  },
  {
   "cell_type": "code",
   "execution_count": null,
   "metadata": {},
   "outputs": [],
   "source": [
    "# feature name lists\n",
    "\n",
    "feature_names = ['Age','T category','N category','M category','AJCC stage','Extent','Grade','Tumor size','Surgery','Hysterectomy','Chemotherapy','Radiotherapy']"
   ]
  },
  {
   "cell_type": "code",
   "execution_count": null,
   "metadata": {},
   "outputs": [],
   "source": [
    "# Train targets\n",
    "\n",
    "X_train = data_train[feature_names]\n",
    "\n",
    "y_OS_train = Surv.from_arrays(data_train['ACD'], data_train['Time'])\n",
    "y_DSS_train = Surv.from_arrays(data_train['DSD'], data_train['Time'])\n",
    "\n",
    "# avoid zeros\n",
    "\n",
    "y_OS_train[13] = (True, 1e-10) # fake time 0 -> 1e-10\n",
    "y_DSS_train[13] = (True, 1e-10) # fake time 0 -> 1e-10\n"
   ]
  },
  {
   "cell_type": "code",
   "execution_count": null,
   "metadata": {},
   "outputs": [],
   "source": [
    "# Test targets\n",
    "\n",
    "X_test = data_test[feature_names]\n",
    "\n",
    "y_OS_test = Surv.from_arrays(data_test['ACD'], data_test['Time'])\n",
    "y_DSS_test = Surv.from_arrays(data_test['DSD'], data_test['Time'])"
   ]
  },
  {
   "cell_type": "markdown",
   "metadata": {},
   "source": [
    "# Preprocessing for train set"
   ]
  },
  {
   "cell_type": "markdown",
   "metadata": {},
   "source": [
    "## Encoding"
   ]
  },
  {
   "cell_type": "code",
   "execution_count": null,
   "metadata": {},
   "outputs": [],
   "source": [
    "X_train_encode = ENCODER(X_train)\n",
    "display(X_train_encode)"
   ]
  },
  {
   "cell_type": "markdown",
   "metadata": {},
   "source": [
    "## Imputing"
   ]
  },
  {
   "cell_type": "code",
   "execution_count": null,
   "metadata": {},
   "outputs": [],
   "source": [
    "imputer = IterativeImputer(estimator=BayesianRidge(),\n",
    "                           max_iter=1000,\n",
    "                           initial_strategy='mean',\n",
    "                           sample_posterior=True,\n",
    "                           random_state=2024) #\n",
    "\n",
    "X_train_impute = imputer.fit_transform(X_train_encode)\n",
    "X_train_impute = pd.DataFrame(X_train_impute, columns = X_train_encode.columns)\n",
    "display(X_train_impute)"
   ]
  },
  {
   "cell_type": "markdown",
   "metadata": {},
   "source": [
    "## Scaling"
   ]
  },
  {
   "cell_type": "code",
   "execution_count": null,
   "metadata": {},
   "outputs": [],
   "source": [
    "scaler = PowerTransformer()\n",
    "\n",
    "X_train_scale = scaler.fit_transform(X_train_impute)\n",
    "X_train_scale = pd.DataFrame(X_train_scale, columns=X_train_impute.columns)\n",
    "display(X_train_scale)"
   ]
  },
  {
   "cell_type": "markdown",
   "metadata": {},
   "source": [
    "# Preprocessing for test set"
   ]
  },
  {
   "cell_type": "code",
   "execution_count": null,
   "metadata": {},
   "outputs": [],
   "source": [
    "X_test_scale = preprocessor_test(X_test, ENCODER, imputer, scaler)"
   ]
  },
  {
   "cell_type": "markdown",
   "metadata": {},
   "source": [
    "# Final datasets"
   ]
  },
  {
   "cell_type": "code",
   "execution_count": null,
   "metadata": {},
   "outputs": [],
   "source": [
    "X_train_final = X_train_scale\n",
    "X_test_final = X_test_scale"
   ]
  },
  {
   "cell_type": "markdown",
   "metadata": {},
   "source": [
    "# KM"
   ]
  },
  {
   "cell_type": "markdown",
   "metadata": {},
   "source": [
    "## SEER"
   ]
  },
  {
   "cell_type": "code",
   "execution_count": null,
   "metadata": {},
   "outputs": [],
   "source": [
    "seer_dss = plot_km_original(y_DSS_train, 'DSS')\n",
    "seer_os = plot_km_original(y_OS_train, 'OS')\n",
    "plt.legend(loc='lower left')\n",
    "\n",
    "plt.savefig('KM SEER.pdf', format='pdf', bbox_inches = 'tight')\n",
    "plt.show()"
   ]
  },
  {
   "cell_type": "markdown",
   "metadata": {},
   "source": [
    "## External"
   ]
  },
  {
   "cell_type": "code",
   "execution_count": null,
   "metadata": {},
   "outputs": [],
   "source": [
    "exte_dss = plot_km_original(y_DSS_test, 'DSS')\n",
    "exte_os = plot_km_original(y_OS_test, 'OS')\n",
    "plt.legend(loc='lower left')\n",
    "\n",
    "plt.savefig('KM External.pdf', format='pdf', bbox_inches = 'tight')\n",
    "plt.show()"
   ]
  },
  {
   "cell_type": "markdown",
   "metadata": {},
   "source": [
    "# Univariate FS using baseline models"
   ]
  },
  {
   "cell_type": "code",
   "execution_count": null,
   "metadata": {},
   "outputs": [],
   "source": [
    "cv_ = ShuffleSplit(n_splits = 100, test_size = 0.5, random_state = 1437)"
   ]
  },
  {
   "cell_type": "code",
   "execution_count": null,
   "metadata": {},
   "outputs": [],
   "source": [
    "estimator_list = [\n",
    "    CoxPHSurvivalAnalysis(), \n",
    "    CoxnetSurvivalAnalysis().set_params(**{'fit_baseline_model': True}), \n",
    "    RandomSurvivalForest().set_params(**{'random_state': 1437, 'n_estimators': 50, 'max_depth': 500}), \n",
    "    GradientBoostingSurvivalAnalysis().set_params(**{'random_state': 1437, 'learning_rate': 0.5, 'n_estimators': 150}),\n",
    "    SurvivalTree().set_params(**{'random_state': 1437, 'max_depth': 100})\n",
    "]\n",
    "\n",
    "name_list = ['CoxPH', 'CoxNet', 'RSF', 'GBM', 'ST']\n",
    "\n",
    "table, annot_table = get_univariate_table(estimator_list, \n",
    "                                          X_train_final, \n",
    "                                          name_list, \n",
    "                                          y_OS_train, \n",
    "                                          cv = cv_)"
   ]
  },
  {
   "cell_type": "code",
   "execution_count": null,
   "metadata": {},
   "outputs": [],
   "source": [
    "ax = sns.heatmap(data = table.transpose(),\n",
    "                 annot = annot_table.transpose(),\n",
    "                 fmt = '', \n",
    "                 cmap= 'coolwarm',\n",
    "                 center=0.5)\n",
    "ax.set_xlabel('Model\\n', fontsize = 14)\n",
    "ax.set_ylabel('Feature', fontsize = 14)\n",
    "ax.set_title('Univariate C-indices\\n', fontsize = 16, fontweight='bold')\n",
    "ax.xaxis.tick_top()\n",
    "ax.xaxis.set_label_position('top')\n",
    "\n",
    "fig = ax.get_figure()\n",
    "fig.set_size_inches(10,10)\n",
    "fig.show()\n",
    "fig.savefig('Univariate FS.pdf', format='pdf', bbox_inches = 'tight')"
   ]
  },
  {
   "cell_type": "markdown",
   "metadata": {},
   "source": [
    "# Train & evaluate FS models"
   ]
  },
  {
   "cell_type": "code",
   "execution_count": null,
   "metadata": {},
   "outputs": [],
   "source": [
    "X_train_coxph = X_train_final[['Age', 'N category', 'Hysterectomy', 'Extent', 'AJCC stage', 'M category', 'Chemotherapy', 'Grade', 'Radiotherapy_EBRT', 'Surgery_PR', 'Radiotherapy_No/Unknown', 'T category']]\n",
    "X_train_coxnet = X_train_final[['Age', 'N category', 'Hysterectomy', 'Extent', 'AJCC stage', 'Chemotherapy', 'M category', 'Radiotherapy_EBRT', 'Grade', 'Surgery_PR', 'Radiotherapy_No/Unknown', 'T category']]\n",
    "X_train_rsf = X_train_final[['Age', 'Extent', 'N category', 'Hysterectomy', 'Surgery_PR', 'Chemotherapy', 'M category', 'Radiotherapy_RAI', 'Surgery_USO', 'Tumor size', 'Radiotherapy_EBRT', 'Grade', 'AJCC stage']]\n",
    "X_train_gbm = X_train_final[['Age', 'N category', 'M category', 'Extent', 'Grade', 'Tumor size', 'Hysterectomy', 'Chemotherapy', 'Surgery_PR', 'Radiotherapy_EBRT', 'Radiotherapy_No/Unknown']]\n",
    "X_train_sdt = X_train_final[['Extent', 'Age', 'Hysterectomy', 'N category', 'Surgery_PR', 'Chemotherapy', 'Tumor size', 'M category', 'Radiotherapy_RAI', 'Grade', 'Surgery_USO', 'Radiotherapy_EBRT']]\n",
    "\n",
    "X_test_coxph = X_test_final[['Age', 'N category', 'Hysterectomy', 'Extent', 'AJCC stage', 'M category', 'Chemotherapy', 'Grade', 'Radiotherapy_EBRT', 'Surgery_PR', 'Radiotherapy_No/Unknown', 'T category']]\n",
    "X_test_coxnet = X_test_final[['Age', 'N category', 'Hysterectomy', 'Extent', 'AJCC stage', 'Chemotherapy', 'M category', 'Radiotherapy_EBRT', 'Grade', 'Surgery_PR', 'Radiotherapy_No/Unknown', 'T category']]\n",
    "X_test_rsf = X_test_final[['Age', 'Extent', 'N category', 'Hysterectomy', 'Surgery_PR', 'Chemotherapy', 'M category', 'Radiotherapy_RAI', 'Surgery_USO', 'Tumor size', 'Radiotherapy_EBRT', 'Grade', 'AJCC stage']]\n",
    "X_test_gbm = X_test_final[['Age', 'N category', 'M category', 'Extent', 'Grade', 'Tumor size', 'Hysterectomy', 'Chemotherapy', 'Surgery_PR', 'Radiotherapy_EBRT', 'Radiotherapy_No/Unknown']]\n",
    "X_test_sdt = X_test_final[['Extent', 'Age', 'Hysterectomy', 'N category', 'Surgery_PR', 'Chemotherapy', 'Tumor size', 'M category', 'Radiotherapy_RAI', 'Grade', 'Surgery_USO', 'Radiotherapy_EBRT']]"
   ]
  },
  {
   "cell_type": "markdown",
   "metadata": {},
   "source": [
    "## train"
   ]
  },
  {
   "cell_type": "code",
   "execution_count": null,
   "metadata": {},
   "outputs": [],
   "source": [
    "coxph = CoxPHSurvivalAnalysis()\n",
    "coxnet = CoxnetSurvivalAnalysis().set_params(**{'l1_ratio': 0.005, 'fit_baseline_model': True})\n",
    "rsf = RandomSurvivalForest().set_params(**{'random_state': 56, 'max_depth': 680, 'n_estimators': 4})\n",
    "gbm = GradientBoostingSurvivalAnalysis().set_params(**{'random_state': 23, 'dropout_rate': 0.1, 'learning_rate': 0.1, 'max_depth': 1450, 'n_estimators': 70, 'subsample': 0.5})\n",
    "sdt = SurvivalTree().set_params(**{'random_state': 53, 'splitter': 'random', 'max_depth': 40, 'min_samples_leaf': 6, 'min_samples_split': 20})\n",
    "\n",
    "coxph.fit(X_train_coxph, y_OS_train)\n",
    "coxnet.fit(X_train_coxnet, y_OS_train)\n",
    "rsf.fit(X_train_rsf, y_OS_train)\n",
    "gbm.fit(X_train_gbm, y_OS_train)\n",
    "sdt.fit(X_train_sdt, y_OS_train)"
   ]
  },
  {
   "cell_type": "markdown",
   "metadata": {},
   "source": [
    "## get lists"
   ]
  },
  {
   "cell_type": "code",
   "execution_count": null,
   "metadata": {},
   "outputs": [],
   "source": [
    "estimator_list = [coxph, coxnet, rsf, gbm, sdt]\n",
    "X_test_list = [X_test_coxph, X_test_coxnet, X_test_rsf, X_test_gbm, X_test_sdt]\n",
    "X_train_list = [X_train_coxph, X_train_coxnet, X_train_rsf, X_train_gbm, X_train_sdt]\n",
    "name_list = ['CoxPH', 'CoxNet', 'RSF', 'GBM', 'ST']"
   ]
  },
  {
   "cell_type": "markdown",
   "metadata": {},
   "source": [
    "## CI w/ 95% CI"
   ]
  },
  {
   "cell_type": "code",
   "execution_count": null,
   "metadata": {},
   "outputs": [],
   "source": [
    "random_list = make_random_list(n_samples = 100000,  # make sure unique\n",
    "                               seed = 1437)"
   ]
  },
  {
   "cell_type": "markdown",
   "metadata": {},
   "source": [
    "### Testing set"
   ]
  },
  {
   "cell_type": "code",
   "execution_count": null,
   "metadata": {},
   "outputs": [],
   "source": [
    "ax1 = plot_c_index_ci(estimator_list, \n",
    "                      X_test_list, \n",
    "                      y_OS_test, \n",
    "                      name_list, \n",
    "                      n_samples = 1000, \n",
    "                      random_list = random_list)"
   ]
  },
  {
   "cell_type": "code",
   "execution_count": null,
   "metadata": {},
   "outputs": [],
   "source": [
    "ax = ax1\n",
    "ax.set_title('Model performance in testing set', fontsize = 12)\n",
    "fig = ax.get_figure()\n",
    "fig.set_size_inches(6,4)\n",
    "fig.savefig('CI test.pdf', format='pdf', bbox_inches = 'tight')"
   ]
  },
  {
   "cell_type": "markdown",
   "metadata": {},
   "source": [
    "### Training set"
   ]
  },
  {
   "cell_type": "code",
   "execution_count": null,
   "metadata": {},
   "outputs": [],
   "source": [
    "ax2 = plot_c_index_ci(estimator_list, \n",
    "                      X_train_list, \n",
    "                      y_OS_train, \n",
    "                      name_list, \n",
    "                      n_samples = 1000, \n",
    "                      random_list = random_list)"
   ]
  },
  {
   "cell_type": "code",
   "execution_count": null,
   "metadata": {},
   "outputs": [],
   "source": [
    "ax = ax2\n",
    "ax.set_title('Model performance in training set', fontsize = 12)\n",
    "fig = ax.get_figure()\n",
    "fig.set_size_inches(6,4)\n",
    "fig.savefig('CI train.pdf', format='pdf', bbox_inches = 'tight')"
   ]
  },
  {
   "cell_type": "markdown",
   "metadata": {},
   "source": [
    "## mAUC"
   ]
  },
  {
   "cell_type": "markdown",
   "metadata": {},
   "source": [
    "### Testing set"
   ]
  },
  {
   "cell_type": "code",
   "execution_count": null,
   "metadata": {},
   "outputs": [],
   "source": [
    "ax3 = plot_td_auc_no_ci(estimator_list, \n",
    "                        X_test_list, \n",
    "                        name_list,\n",
    "                        y_OS_test, y_OS_train,\n",
    "                        times = time_points(y_OS_test, 5, 95, 6), # 90% of the times\n",
    "                        mean = False,\n",
    "                        xticks = False)"
   ]
  },
  {
   "cell_type": "code",
   "execution_count": null,
   "metadata": {},
   "outputs": [],
   "source": [
    "ax = ax3\n",
    "ax.set_title('Model performance in testing set', fontsize = 12)\n",
    "fig = ax.get_figure()\n",
    "fig.set_size_inches(6,4)\n",
    "fig.savefig('AUC test.pdf', format='pdf', bbox_inches = 'tight')"
   ]
  },
  {
   "cell_type": "markdown",
   "metadata": {},
   "source": [
    "### Training set"
   ]
  },
  {
   "cell_type": "code",
   "execution_count": null,
   "metadata": {},
   "outputs": [],
   "source": [
    "ax4 = plot_td_auc_no_ci(estimator_list, \n",
    "                        X_train_list, \n",
    "                        name_list,\n",
    "                        y_OS_train, y_OS_train,\n",
    "                        times = time_points(y_OS_train, 5, 95, 6), # 90% of the times\n",
    "                        mean = False,\n",
    "                        xticks = False)"
   ]
  },
  {
   "cell_type": "code",
   "execution_count": null,
   "metadata": {},
   "outputs": [],
   "source": [
    "ax = ax4\n",
    "ax.set_title('Model performance in training set', fontsize = 12)\n",
    "fig = ax.get_figure()\n",
    "fig.set_size_inches(6,4)\n",
    "fig.savefig('AUC train.pdf', format='pdf', bbox_inches = 'tight')"
   ]
  },
  {
   "cell_type": "markdown",
   "metadata": {},
   "source": [
    "## IBS"
   ]
  },
  {
   "cell_type": "markdown",
   "metadata": {},
   "source": [
    "### Testing set"
   ]
  },
  {
   "cell_type": "code",
   "execution_count": null,
   "metadata": {},
   "outputs": [],
   "source": [
    "ax5 = plot_td_bs_no_ci(estimator_list, \n",
    "                       X_test_list, \n",
    "                       name_list,\n",
    "                       y_OS_test, y_OS_train,\n",
    "                       times = time_points(y_OS_test, 5, 95, 6), # 90% of the times\n",
    "                       ibs = False,\n",
    "                       xticks = False)"
   ]
  },
  {
   "cell_type": "code",
   "execution_count": null,
   "metadata": {},
   "outputs": [],
   "source": [
    "ax = ax5\n",
    "ax.set_title('Model performance in testing set', fontsize = 12)\n",
    "fig = ax.get_figure()\n",
    "fig.set_size_inches(6,4)\n",
    "fig.savefig('BS test.pdf', format='pdf', bbox_inches = 'tight')"
   ]
  },
  {
   "cell_type": "markdown",
   "metadata": {},
   "source": [
    "### Training set"
   ]
  },
  {
   "cell_type": "code",
   "execution_count": null,
   "metadata": {},
   "outputs": [],
   "source": [
    "ax6 = plot_td_bs_no_ci(estimator_list, \n",
    "                       X_train_list, \n",
    "                       name_list,\n",
    "                       y_OS_train, y_OS_train,\n",
    "                       times = time_points(y_OS_train, 5, 95, 6), # 90% of the times\n",
    "                       ibs = False,\n",
    "                       xticks = False)"
   ]
  },
  {
   "cell_type": "code",
   "execution_count": null,
   "metadata": {},
   "outputs": [],
   "source": [
    "ax = ax6\n",
    "ax.set_title('Model performance in training set', fontsize = 12)\n",
    "fig = ax.get_figure()\n",
    "fig.set_size_inches(6,4)\n",
    "fig.savefig('BS train.pdf', format='pdf', bbox_inches = 'tight')"
   ]
  },
  {
   "cell_type": "markdown",
   "metadata": {},
   "source": [
    "## Risk stratification"
   ]
  },
  {
   "cell_type": "markdown",
   "metadata": {},
   "source": [
    "### Testing"
   ]
  },
  {
   "cell_type": "code",
   "execution_count": null,
   "metadata": {},
   "outputs": [],
   "source": [
    "for estimator, X_test in zip(estimator_list, X_test_list):\n",
    "    print(f'{estimator.__class__.__name__}')\n",
    "    get_best_cutoff(estimator, X_test, y_OS_test) # a value in [25, 75] percentiles"
   ]
  },
  {
   "cell_type": "code",
   "execution_count": null,
   "metadata": {},
   "outputs": [],
   "source": [
    "percentiles = [65,66,75,70,75]\n",
    "plot_km_together(estimator_list, X_test_list, y_OS_test, name_list, percentiles)"
   ]
  },
  {
   "cell_type": "markdown",
   "metadata": {},
   "source": [
    "### Training"
   ]
  },
  {
   "cell_type": "code",
   "execution_count": null,
   "metadata": {},
   "outputs": [],
   "source": [
    "for estimator, X_train in zip(estimator_list, X_train_list):\n",
    "    print(f'{estimator.__class__.__name__}')\n",
    "    get_best_cutoff(estimator, X_train, y_OS_train) # a value in [25, 75] percentiles"
   ]
  },
  {
   "cell_type": "code",
   "execution_count": null,
   "metadata": {},
   "outputs": [],
   "source": [
    "percentiles = [41,47,72,75,75]\n",
    "plot_km_together(estimator_list, X_train_list, y_OS_train, name_list, percentiles)"
   ]
  },
  {
   "cell_type": "markdown",
   "metadata": {},
   "source": [
    "## SHAP"
   ]
  },
  {
   "cell_type": "markdown",
   "metadata": {},
   "source": [
    "no to much difference for test or train"
   ]
  },
  {
   "cell_type": "code",
   "execution_count": null,
   "metadata": {},
   "outputs": [],
   "source": [
    "# test\n",
    "\n",
    "explainer = shap.PermutationExplainer(rsf.predict, X_test_rsf)\n",
    "explanation = explainer(X_test_rsf)"
   ]
  },
  {
   "cell_type": "code",
   "execution_count": null,
   "metadata": {},
   "outputs": [],
   "source": [
    "# train\n",
    "\n",
    "explainer_ = shap.PermutationExplainer(rsf.predict, X_train_rsf)\n",
    "explanation_ = explainer(X_train_rsf)"
   ]
  },
  {
   "cell_type": "markdown",
   "metadata": {},
   "source": [
    "### beeswarm"
   ]
  },
  {
   "cell_type": "code",
   "execution_count": null,
   "metadata": {},
   "outputs": [],
   "source": [
    "plt.clf()\n",
    "shap.plots.beeswarm(explanation, plot_size = (12, 6), max_display=18, show = True)\n",
    "shap.plots.beeswarm(explanation, plot_size = (12, 6), max_display=18, show = False)\n",
    "plt.savefig('beeswarm.pdf', format='pdf', bbox_inches = 'tight')"
   ]
  },
  {
   "cell_type": "code",
   "execution_count": null,
   "metadata": {},
   "outputs": [],
   "source": [
    "plt.clf()\n",
    "shap.plots.beeswarm(explanation_, plot_size = (12, 6), max_display=18, show = True)\n",
    "shap.plots.beeswarm(explanation, plot_size = (12, 6), max_display=18, show = False)\n",
    "plt.savefig('beeswarm_train.pdf', format='pdf', bbox_inches = 'tight')"
   ]
  },
  {
   "cell_type": "markdown",
   "metadata": {},
   "source": [
    "#### split beeswarm"
   ]
  },
  {
   "cell_type": "code",
   "execution_count": null,
   "metadata": {},
   "outputs": [],
   "source": [
    "for feature_name in ['Age', 'Extent', 'N category', 'Hysterectomy', 'Surgery_PR', 'Chemotherapy', 'M category', \n",
    "                     'Radiotherapy_RAI', 'Surgery_USO', 'Tumor size', 'Radiotherapy_EBRT', 'Grade', 'AJCC stage']:\n",
    "    plot_beeswarm_per_features(explanation, name = feature_name)"
   ]
  },
  {
   "cell_type": "markdown",
   "metadata": {},
   "source": [
    "### bar"
   ]
  },
  {
   "cell_type": "code",
   "execution_count": null,
   "metadata": {},
   "outputs": [],
   "source": [
    "shap.plots.bar(explanation, clustering=False, max_display=18)"
   ]
  },
  {
   "cell_type": "markdown",
   "metadata": {},
   "source": [
    "### violin"
   ]
  },
  {
   "cell_type": "code",
   "execution_count": null,
   "metadata": {},
   "outputs": [],
   "source": [
    "shap.plots.violin(explanation, \n",
    "                  plot_size = (12, 6), \n",
    "                  show = False)\n",
    "plt.savefig('violin.pdf', format='pdf', bbox_inches = 'tight')"
   ]
  },
  {
   "cell_type": "markdown",
   "metadata": {},
   "source": [
    "### waterfall"
   ]
  },
  {
   "cell_type": "markdown",
   "metadata": {},
   "source": [
    "#### High-risk"
   ]
  },
  {
   "cell_type": "code",
   "execution_count": null,
   "metadata": {},
   "outputs": [],
   "source": [
    "explanation_patient=explanation[3]\n",
    "X_patient=X_test.iloc[3:4]\n",
    "\n",
    "sorted_ylabels, _ = get_ylabels(explanation_patient, X_patient)\n",
    "\n",
    "plt.clf()\n",
    "fig = shap.plots.waterfall(explanation_patient, max_display=18, show = False)\n",
    "ax_ = fig.get_axes()[0]\n",
    "tick_labels = ax_.yaxis.get_majorticklabels()\n",
    "for i in range(len(sorted_ylabels)):\n",
    "    tick_labels[i].set_color(\"black\")\n",
    "ax_.set_yticks(np.arange(len(sorted_ylabels)))\n",
    "ax_.set_yticklabels(sorted_ylabels)\n",
    "\n",
    "plot = ax_.get_figure()\n",
    "\n",
    "plot.savefig('No. 3 high-risk shap.pdf', format='pdf', bbox_inches = 'tight')\n",
    "plt.show()"
   ]
  },
  {
   "cell_type": "markdown",
   "metadata": {},
   "source": [
    "#### Low-risk"
   ]
  },
  {
   "cell_type": "code",
   "execution_count": null,
   "metadata": {},
   "outputs": [],
   "source": [
    "explanation_patient=explanation[6]\n",
    "X_patient=X_test.iloc[6:7]\n",
    "\n",
    "sorted_ylabels, _ = get_ylabels(explanation_patient, X_patient)\n",
    "\n",
    "plt.clf()\n",
    "fig = shap.plots.waterfall(explanation_patient, max_display=18, show = False)\n",
    "ax_ = fig.get_axes()[0]\n",
    "tick_labels = ax_.yaxis.get_majorticklabels()\n",
    "for i in range(len(sorted_ylabels)):\n",
    "    tick_labels[i].set_color(\"black\")\n",
    "ax_.set_yticks(np.arange(len(sorted_ylabels)))\n",
    "ax_.set_yticklabels(sorted_ylabels)\n",
    "plot = ax_.get_figure()\n",
    "\n",
    "plot.savefig('No. 6 low-risk shap.pdf', format='pdf', bbox_inches = 'tight')\n",
    "plt.show()"
   ]
  },
  {
   "cell_type": "markdown",
   "metadata": {},
   "source": [
    "## Predictions"
   ]
  },
  {
   "cell_type": "code",
   "execution_count": null,
   "metadata": {},
   "outputs": [],
   "source": [
    "estimator = rsf\n",
    "X = X_test_rsf\n",
    "times = np.arange(0, 360)\n",
    "best_cop = 5.827909050252443\n",
    "\n",
    "plot_predictions(estimator, X, times, best_cop, show = False)\n",
    "plt.savefig('predictions.pdf', format='pdf', bbox_inches = 'tight')"
   ]
  },
  {
   "cell_type": "markdown",
   "metadata": {},
   "source": [
    "## Personalized prediction"
   ]
  },
  {
   "cell_type": "code",
   "execution_count": null,
   "metadata": {},
   "outputs": [],
   "source": [
    "rs = rsf.predict(X_test_rsf)\n",
    "best_cut_off_point = np.percentile(rs, 75)\n",
    "best_cut_off_point"
   ]
  },
  {
   "cell_type": "markdown",
   "metadata": {},
   "source": [
    "### High-risk"
   ]
  },
  {
   "cell_type": "code",
   "execution_count": null,
   "metadata": {},
   "outputs": [],
   "source": [
    "plt.clf()\n",
    "estimator = rsf\n",
    "X = X_test_rsf.iloc[3:4]\n",
    "times = np.arange(0, 360)\n",
    "best_cop = 5.827909050252443\n",
    "plot_personalized_predictions(estimator, X, times, best_cop, show = True)\n",
    "plot_personalized_predictions(estimator, X, times, best_cop, show = False)\n",
    "current_axis = plt.gca()\n",
    "plt.savefig('No. 3 high-risk.pdf', format='pdf', bbox_inches = 'tight')"
   ]
  },
  {
   "cell_type": "markdown",
   "metadata": {},
   "source": [
    "### Low-risk"
   ]
  },
  {
   "cell_type": "code",
   "execution_count": null,
   "metadata": {},
   "outputs": [],
   "source": [
    "plt.clf()\n",
    "estimator = rsf\n",
    "X = X_test_rsf.iloc[6:7]\n",
    "times = np.arange(0, 360)\n",
    "best_cop = 5.827909050252443\n",
    "\n",
    "plot_personalized_predictions(estimator, X, times, best_cop, show = True)\n",
    "plot_personalized_predictions(estimator, X, times, best_cop, show = False)\n",
    "current_axis = plt.gca()\n",
    "plt.savefig('No. 6 low-risk.pdf', format='pdf', bbox_inches = 'tight')"
   ]
  },
  {
   "cell_type": "markdown",
   "metadata": {},
   "source": [
    "# Deployment"
   ]
  },
  {
   "cell_type": "code",
   "execution_count": null,
   "metadata": {},
   "outputs": [],
   "source": [
    "with open('model.pkl', 'wb') as f:\n",
    "    pickle.dump(rsf, f)\n",
    "with open('scaler.pkl', 'wb') as f:\n",
    "    pickle.dump(scaler, f)\n",
    "with open('X_test.pkl', 'wb') as f:\n",
    "    pickle.dump(X_test_rsf, f)"
   ]
  }
 ],
 "metadata": {
  "kernelspec": {
   "display_name": "base",
   "language": "python",
   "name": "python3"
  },
  "language_info": {
   "codemirror_mode": {
    "name": "ipython",
    "version": 3
   },
   "file_extension": ".py",
   "mimetype": "text/x-python",
   "name": "python",
   "nbconvert_exporter": "python",
   "pygments_lexer": "ipython3",
   "version": "3.11.5"
  }
 },
 "nbformat": 4,
 "nbformat_minor": 2
}
